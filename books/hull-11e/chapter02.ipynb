{
 "cells": [
  {
   "cell_type": "markdown",
   "id": "021b0ea6",
   "metadata": {},
   "source": [
    "### 2. Futures Markets and Central Counterparties"
   ]
  }
 ],
 "metadata": {
  "language_info": {
   "name": "python"
  }
 },
 "nbformat": 4,
 "nbformat_minor": 5
}
